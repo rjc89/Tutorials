{
  "nbformat": 4,
  "nbformat_minor": 0,
  "metadata": {
    "colab": {
      "name": "Lambda_expressions_and_annonymous_functions.ipynb",
      "provenance": [],
      "collapsed_sections": [],
      "authorship_tag": "ABX9TyOdTVNAx/06E7K7x100SUBf",
      "include_colab_link": true
    },
    "kernelspec": {
      "name": "python3",
      "display_name": "Python 3"
    }
  },
  "cells": [
    {
      "cell_type": "markdown",
      "metadata": {
        "id": "view-in-github",
        "colab_type": "text"
      },
      "source": [
        "<a href=\"https://colab.research.google.com/github/rjc89/Tutorials/blob/master/Lambda_expressions_and_annonymous_functions.ipynb\" target=\"_parent\"><img src=\"https://colab.research.google.com/assets/colab-badge.svg\" alt=\"Open In Colab\"/></a>"
      ]
    },
    {
      "cell_type": "code",
      "metadata": {
        "id": "eQVRsRxf5ymD",
        "colab_type": "code",
        "colab": {}
      },
      "source": [
        "# Lambda function == annonymous function\n",
        "# A short simple function only to be used ONCE\n",
        "#Frequently used when sorting or filtering data"
      ],
      "execution_count": 0,
      "outputs": []
    },
    {
      "cell_type": "code",
      "metadata": {
        "id": "8bAjTafM6KT0",
        "colab_type": "code",
        "colab": {
          "base_uri": "https://localhost:8080/",
          "height": 34
        },
        "outputId": "ae39a840-7418-4a4e-826d-68ce6fb162b2"
      },
      "source": [
        "\n",
        "lambda x: 3*x + 3"
      ],
      "execution_count": 4,
      "outputs": [
        {
          "output_type": "execute_result",
          "data": {
            "text/plain": [
              "<function __main__.<lambda>>"
            ]
          },
          "metadata": {
            "tags": []
          },
          "execution_count": 4
        }
      ]
    },
    {
      "cell_type": "code",
      "metadata": {
        "id": "cOXaLRse6pvq",
        "colab_type": "code",
        "colab": {
          "base_uri": "https://localhost:8080/",
          "height": 34
        },
        "outputId": "9a70e9a2-49c8-4af2-fe03-959448619241"
      },
      "source": [
        "g = lambda x: 3*x + 3\n",
        "print(g(2))"
      ],
      "execution_count": 8,
      "outputs": [
        {
          "output_type": "stream",
          "text": [
            "9\n"
          ],
          "name": "stdout"
        }
      ]
    },
    {
      "cell_type": "code",
      "metadata": {
        "id": "4iHTXbdN7NCO",
        "colab_type": "code",
        "colab": {
          "base_uri": "https://localhost:8080/",
          "height": 34
        },
        "outputId": "4ae06840-964d-470a-c650-ac2496ed2f5a"
      },
      "source": [
        "# combine first and last name into single full_name\n",
        "\n",
        "full_name = lambda fn, ln: fn.strip().title() + \" \" + ln.strip().title()\n",
        "full_name(\" robeRT\" , \" Constable\")"
      ],
      "execution_count": 9,
      "outputs": [
        {
          "output_type": "execute_result",
          "data": {
            "text/plain": [
              "'Robert Constable'"
            ]
          },
          "metadata": {
            "tags": []
          },
          "execution_count": 9
        }
      ]
    },
    {
      "cell_type": "code",
      "metadata": {
        "id": "39z-l5SF8GFt",
        "colab_type": "code",
        "colab": {}
      },
      "source": [
        "sci_fi_authors = [\"Arthur C. Clarke\", \"Isaac Asimov\", \"Ray Bradbury\", \"H.G Wells\"]"
      ],
      "execution_count": 0,
      "outputs": []
    },
    {
      "cell_type": "code",
      "metadata": {
        "id": "zY_rjbsj8Wqj",
        "colab_type": "code",
        "colab": {
          "base_uri": "https://localhost:8080/",
          "height": 101
        },
        "outputId": "cf33585f-d3f4-4342-fd13-b4ab55e525ff"
      },
      "source": [
        "help(sci_fi_authors.sort)"
      ],
      "execution_count": 12,
      "outputs": [
        {
          "output_type": "stream",
          "text": [
            "Help on built-in function sort:\n",
            "\n",
            "sort(...) method of builtins.list instance\n",
            "    L.sort(key=None, reverse=False) -> None -- stable sort *IN PLACE*\n",
            "\n"
          ],
          "name": "stdout"
        }
      ]
    },
    {
      "cell_type": "code",
      "metadata": {
        "id": "JihVASjy8fEQ",
        "colab_type": "code",
        "colab": {}
      },
      "source": [
        "sci_fi_authors.sort(key = lambda name: name.split(\" \")[-1].lower())"
      ],
      "execution_count": 0,
      "outputs": []
    },
    {
      "cell_type": "code",
      "metadata": {
        "id": "-KVW9het81rq",
        "colab_type": "code",
        "colab": {
          "base_uri": "https://localhost:8080/",
          "height": 34
        },
        "outputId": "ce1356bc-3787-4785-d69f-1ff1a1ffcfc3"
      },
      "source": [
        "print(sci_fi_authors)"
      ],
      "execution_count": 14,
      "outputs": [
        {
          "output_type": "stream",
          "text": [
            "['Isaac Asimov', 'Ray Bradbury', 'Arthur C. Clarke', 'H.G Wells']\n"
          ],
          "name": "stdout"
        }
      ]
    },
    {
      "cell_type": "code",
      "metadata": {
        "id": "LOoHJEV48--O",
        "colab_type": "code",
        "colab": {}
      },
      "source": [
        "def build_quadratic(a, b, c):\n",
        "  \"\"\"Returns the functions f(x) = ax^2 + bx + c\"\"\"\n",
        "\n",
        "  return lambda x: a*x**2 + b*x + c\n",
        "\n",
        "f = build_quadratic(8, 9 , 2)\n"
      ],
      "execution_count": 0,
      "outputs": []
    },
    {
      "cell_type": "code",
      "metadata": {
        "id": "gGVetzZc9dX5",
        "colab_type": "code",
        "colab": {
          "base_uri": "https://localhost:8080/",
          "height": 34
        },
        "outputId": "c829ea1b-f8a0-4f32-d2cc-d8b66e118948"
      },
      "source": [
        "f(20)"
      ],
      "execution_count": 16,
      "outputs": [
        {
          "output_type": "execute_result",
          "data": {
            "text/plain": [
              "3382"
            ]
          },
          "metadata": {
            "tags": []
          },
          "execution_count": 16
        }
      ]
    },
    {
      "cell_type": "code",
      "metadata": {
        "id": "jHZLtz6g9pvo",
        "colab_type": "code",
        "colab": {
          "base_uri": "https://localhost:8080/",
          "height": 34
        },
        "outputId": "fc11b80c-c745-452e-d6db-14068d21c468"
      },
      "source": [
        "build_quadratic(2, 3, 1)(2)"
      ],
      "execution_count": 17,
      "outputs": [
        {
          "output_type": "execute_result",
          "data": {
            "text/plain": [
              "15"
            ]
          },
          "metadata": {
            "tags": []
          },
          "execution_count": 17
        }
      ]
    }
  ]
}