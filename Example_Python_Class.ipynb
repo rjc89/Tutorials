{
  "nbformat": 4,
  "nbformat_minor": 0,
  "metadata": {
    "colab": {
      "name": "Example_Python_Class.ipynb",
      "provenance": [],
      "collapsed_sections": [],
      "include_colab_link": true
    },
    "kernelspec": {
      "name": "python3",
      "display_name": "Python 3"
    }
  },
  "cells": [
    {
      "cell_type": "markdown",
      "metadata": {
        "id": "view-in-github",
        "colab_type": "text"
      },
      "source": [
        "<a href=\"https://colab.research.google.com/github/rjc89/Tutorials/blob/master/Example_Python_Class.ipynb\" target=\"_parent\"><img src=\"https://colab.research.google.com/assets/colab-badge.svg\" alt=\"Open In Colab\"/></a>"
      ]
    },
    {
      "cell_type": "code",
      "metadata": {
        "id": "IkVBZM0G04bd",
        "colab_type": "code",
        "colab": {}
      },
      "source": [
        "# Classes are factories for converting fields (self, a, b), and methods def age(self), into instances"
      ],
      "execution_count": 0,
      "outputs": []
    },
    {
      "cell_type": "code",
      "metadata": {
        "id": "Tk2_h-zuwHnC",
        "colab_type": "code",
        "colab": {}
      },
      "source": [
        "import datetime\n",
        "\n",
        "class User:\n",
        "  \"\"\"this is a Doc string. __init__, __str__, __repr__, __len__ are known as double underscore functions aka dunder functions which \n",
        "  are built into Python. By convention, attribute names are lowercase and words are separated by single underscores, i.e first_name\"\"\"\n",
        "\n",
        "  def __init__ (self, full_name, birthday):\n",
        "    self.name = full_name\n",
        "    self.birthday = birthday #yyyymmdd\n",
        "\n",
        "    name_pieces = full_name.split(\" \")\n",
        "    self.first_name = name_pieces[0]\n",
        "    self.last_name = name_pieces[1]\n",
        "\n",
        "  def age(self):\n",
        "    \"\"\"return age of user in years\"\"\"\n",
        "    today = datetime.date(2001, 5, 12)\n",
        "    yyyy = int(self.birthday[0:4])\n",
        "    mm = int(self.birthday[4:6])\n",
        "    dd = int(self.birthday[6:8])\n",
        "    dob = datetime.date(yyyy, mm, dd)\n",
        "    age_in_days = (dob - today).days\n",
        "    age_in_years = age_in_days / 365\n",
        "\n",
        "    return abs(int(age_in_years))\n"
      ],
      "execution_count": 0,
      "outputs": []
    },
    {
      "cell_type": "code",
      "metadata": {
        "id": "jrzTG_iVxf6z",
        "colab_type": "code",
        "colab": {
          "base_uri": "https://localhost:8080/",
          "height": 353
        },
        "outputId": "5373d56c-57bc-4f22-9cab-072fb5fc9bdf"
      },
      "source": [
        "help(User)"
      ],
      "execution_count": 18,
      "outputs": [
        {
          "output_type": "stream",
          "text": [
            "Help on class User in module __main__:\n",
            "\n",
            "class User(builtins.object)\n",
            " |  this is a Doc string. __init__, __str__, __repr__, __len__ are known as double underscore functions aka dunder functions which \n",
            " |  are built into Python. By convention, attribute names are lowercase and words are separated by single underscores, i.e first_name\n",
            " |  \n",
            " |  Methods defined here:\n",
            " |  \n",
            " |  __init__(self, full_name, birthday)\n",
            " |      Initialize self.  See help(type(self)) for accurate signature.\n",
            " |  \n",
            " |  ----------------------------------------------------------------------\n",
            " |  Data descriptors defined here:\n",
            " |  \n",
            " |  __dict__\n",
            " |      dictionary for instance variables (if defined)\n",
            " |  \n",
            " |  __weakref__\n",
            " |      list of weak references to the object (if defined)\n",
            "\n"
          ],
          "name": "stdout"
        }
      ]
    },
    {
      "cell_type": "code",
      "metadata": {
        "id": "ARMgLc3_xnJo",
        "colab_type": "code",
        "colab": {}
      },
      "source": [
        "# creating an instance?\n",
        "user = User(\"David Bowman\", \"19710312\")\n"
      ],
      "execution_count": 0,
      "outputs": []
    },
    {
      "cell_type": "code",
      "metadata": {
        "id": "tZ6VQMiqx8xL",
        "colab_type": "code",
        "colab": {
          "base_uri": "https://localhost:8080/",
          "height": 84
        },
        "outputId": "edb032dc-d3c4-469b-a973-feac543fa7ca"
      },
      "source": [
        "print(user.birthday)\n",
        "print(user.first_name)\n",
        "print(user.last_name)\n",
        "print(user.age())"
      ],
      "execution_count": 38,
      "outputs": [
        {
          "output_type": "stream",
          "text": [
            "19710312\n",
            "David\n",
            "Bowman\n",
            "30\n"
          ],
          "name": "stdout"
        }
      ]
    },
    {
      "cell_type": "code",
      "metadata": {
        "id": "bH2ecEXcys3b",
        "colab_type": "code",
        "colab": {}
      },
      "source": [
        ""
      ],
      "execution_count": 0,
      "outputs": []
    },
    {
      "cell_type": "code",
      "metadata": {
        "id": "6A_LfFGlW2GM",
        "colab_type": "code",
        "colab": {}
      },
      "source": [
        "class SecureList():\n",
        "  def __init__(self, test):\n",
        "    pass\n",
        "\n",
        "  def __getitem__(self, index):\n",
        "    \n",
        "    return gettr(self, index)\n",
        "  \n",
        "  # def __str__(self):\n",
        "  #   return self.item\n",
        "    \n",
        "  \n",
        "  # def __repr__():\n",
        "  \n",
        "  \n",
        "  # def __len__():\n",
        "  \n",
        "  "
      ],
      "execution_count": 0,
      "outputs": []
    },
    {
      "cell_type": "code",
      "metadata": {
        "id": "j4bg-JxBdg2I",
        "colab_type": "code",
        "outputId": "095a0b53-a95f-48d6-d3a6-bebe6b0515db",
        "colab": {
          "base_uri": "https://localhost:8080/",
          "height": 230
        }
      },
      "source": [
        "\n",
        "base=[1,2,3,4]\n",
        "a=SecureList(base)\n",
        "\n",
        "Test.assert_equals(a[0],base[0],\"List returned wrong value.\")\n",
        "Test.assert_equals(a[0],base[1],\"List returned wrong value.\")\n",
        "Test.assert_equals(len(a),2,\"List hasn't deleted it's items once accessed\")\n",
        "print(\"current List: %s\"%a)\n",
        "Test.assert_equals(len(a),0,\"List Should be empty after printing\")\n",
        "a=SecureList(base)\n",
        "print(\"current List: %r\"%a)\n",
        "Test.assert_equals(len(a),0,\"List Should be empty after printing a representation\")"
      ],
      "execution_count": 15,
      "outputs": [
        {
          "output_type": "error",
          "ename": "NameError",
          "evalue": "ignored",
          "traceback": [
            "\u001b[0;31m---------------------------------------------------------------------------\u001b[0m",
            "\u001b[0;31mNameError\u001b[0m                                 Traceback (most recent call last)",
            "\u001b[0;32m<ipython-input-15-41479af975fe>\u001b[0m in \u001b[0;36m<module>\u001b[0;34m()\u001b[0m\n\u001b[1;32m      3\u001b[0m \u001b[0ma\u001b[0m\u001b[0;34m=\u001b[0m\u001b[0mSecureList\u001b[0m\u001b[0;34m(\u001b[0m\u001b[0mbase\u001b[0m\u001b[0;34m)\u001b[0m\u001b[0;34m\u001b[0m\u001b[0;34m\u001b[0m\u001b[0m\n\u001b[1;32m      4\u001b[0m \u001b[0;34m\u001b[0m\u001b[0m\n\u001b[0;32m----> 5\u001b[0;31m \u001b[0mTest\u001b[0m\u001b[0;34m.\u001b[0m\u001b[0massert_equals\u001b[0m\u001b[0;34m(\u001b[0m\u001b[0ma\u001b[0m\u001b[0;34m[\u001b[0m\u001b[0;36m0\u001b[0m\u001b[0;34m]\u001b[0m\u001b[0;34m,\u001b[0m\u001b[0mbase\u001b[0m\u001b[0;34m[\u001b[0m\u001b[0;36m0\u001b[0m\u001b[0;34m]\u001b[0m\u001b[0;34m,\u001b[0m\u001b[0;34m\"List returned wrong value.\"\u001b[0m\u001b[0;34m)\u001b[0m\u001b[0;34m\u001b[0m\u001b[0;34m\u001b[0m\u001b[0m\n\u001b[0m\u001b[1;32m      6\u001b[0m \u001b[0mTest\u001b[0m\u001b[0;34m.\u001b[0m\u001b[0massert_equals\u001b[0m\u001b[0;34m(\u001b[0m\u001b[0ma\u001b[0m\u001b[0;34m[\u001b[0m\u001b[0;36m0\u001b[0m\u001b[0;34m]\u001b[0m\u001b[0;34m,\u001b[0m\u001b[0mbase\u001b[0m\u001b[0;34m[\u001b[0m\u001b[0;36m1\u001b[0m\u001b[0;34m]\u001b[0m\u001b[0;34m,\u001b[0m\u001b[0;34m\"List returned wrong value.\"\u001b[0m\u001b[0;34m)\u001b[0m\u001b[0;34m\u001b[0m\u001b[0;34m\u001b[0m\u001b[0m\n\u001b[1;32m      7\u001b[0m \u001b[0mTest\u001b[0m\u001b[0;34m.\u001b[0m\u001b[0massert_equals\u001b[0m\u001b[0;34m(\u001b[0m\u001b[0mlen\u001b[0m\u001b[0;34m(\u001b[0m\u001b[0ma\u001b[0m\u001b[0;34m)\u001b[0m\u001b[0;34m,\u001b[0m\u001b[0;36m2\u001b[0m\u001b[0;34m,\u001b[0m\u001b[0;34m\"List hasn't deleted it's items once accessed\"\u001b[0m\u001b[0;34m)\u001b[0m\u001b[0;34m\u001b[0m\u001b[0;34m\u001b[0m\u001b[0m\n",
            "\u001b[0;31mNameError\u001b[0m: name 'Test' is not defined"
          ]
        }
      ]
    }
  ]
}