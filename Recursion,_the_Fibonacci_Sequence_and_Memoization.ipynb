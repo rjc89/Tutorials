{
  "nbformat": 4,
  "nbformat_minor": 0,
  "metadata": {
    "colab": {
      "name": "Recursion, the Fibonacci Sequence and Memoization.ipynb",
      "provenance": [],
      "collapsed_sections": [],
      "authorship_tag": "ABX9TyMTuyVPE3t+AwqO4OXy3Dve",
      "include_colab_link": true
    },
    "kernelspec": {
      "name": "python3",
      "display_name": "Python 3"
    }
  },
  "cells": [
    {
      "cell_type": "markdown",
      "metadata": {
        "id": "view-in-github",
        "colab_type": "text"
      },
      "source": [
        "<a href=\"https://colab.research.google.com/github/rjc89/Tutorials/blob/master/Recursion%2C_the_Fibonacci_Sequence_and_Memoization.ipynb\" target=\"_parent\"><img src=\"https://colab.research.google.com/assets/colab-badge.svg\" alt=\"Open In Colab\"/></a>"
      ]
    },
    {
      "cell_type": "code",
      "metadata": {
        "id": "CPNT11R7HEpD",
        "colab_type": "code",
        "colab": {}
      },
      "source": [
        ""
      ],
      "execution_count": 0,
      "outputs": []
    },
    {
      "cell_type": "code",
      "metadata": {
        "id": "jYMvNdXuFhqG",
        "colab_type": "code",
        "colab": {}
      },
      "source": [
        "# this approach produces needless repetition\n",
        "\n",
        "def fibonacci(n):\n",
        "  if n == 1:\n",
        "    return 1\n",
        "  elif n == 2: \n",
        "    return 2\n",
        "  elif n > 2:\n",
        "    return fibonacci(n-1) + fibonacci(n-2)   # function calling itself == RECURSION"
      ],
      "execution_count": 0,
      "outputs": []
    },
    {
      "cell_type": "code",
      "metadata": {
        "id": "SbcQs4bLGhHf",
        "colab_type": "code",
        "colab": {
          "base_uri": "https://localhost:8080/",
          "height": 185
        },
        "outputId": "4186e948-5d81-4582-c25e-85323cdc0f3a"
      },
      "source": [
        "for n in range(1, 11):\n",
        "  print(n, \" \", fibonacci(n))\n"
      ],
      "execution_count": 3,
      "outputs": [
        {
          "output_type": "stream",
          "text": [
            "1   1\n",
            "2   2\n",
            "3   3\n",
            "4   5\n",
            "5   8\n",
            "6   13\n",
            "7   21\n",
            "8   34\n",
            "9   55\n",
            "10   89\n"
          ],
          "name": "stdout"
        }
      ]
    },
    {
      "cell_type": "code",
      "metadata": {
        "id": "TrExXYAjHO_4",
        "colab_type": "code",
        "colab": {}
      },
      "source": [
        "# use memoisation to store the previous function call outputs CACHE THE VALUES"
      ],
      "execution_count": 0,
      "outputs": []
    },
    {
      "cell_type": "code",
      "metadata": {
        "id": "0RDX6xHeHWCg",
        "colab_type": "code",
        "colab": {}
      },
      "source": [
        "# Explicit memoisation solution\n",
        "\n",
        "fibonacci_cache = {}\n",
        "\n",
        "def fibonacci(n):\n",
        "  if n in fibonacci_cache:\n",
        "    return fibonacci_cache[n]\n",
        "  \n",
        "  if n == 1:\n",
        "    value = 1\n",
        "  elif n == 2:\n",
        "    value = 1\n",
        "  elif n > 2:\n",
        "    value = fibonacci(n-1) + fibonacci(n-2)\n",
        "\n",
        "  fibonacci_cache[n] = value\n",
        "\n",
        "  return value"
      ],
      "execution_count": 0,
      "outputs": []
    },
    {
      "cell_type": "code",
      "metadata": {
        "id": "66t19taxIPHc",
        "colab_type": "code",
        "colab": {
          "base_uri": "https://localhost:8080/",
          "height": 1000
        },
        "outputId": "6918369d-d4e7-48f3-e2b0-3ff9046a4933"
      },
      "source": [
        "for n in range(1, 101):\n",
        "  print(n, \" \", fibonacci(n))"
      ],
      "execution_count": 6,
      "outputs": [
        {
          "output_type": "stream",
          "text": [
            "1   1\n",
            "2   1\n",
            "3   2\n",
            "4   3\n",
            "5   5\n",
            "6   8\n",
            "7   13\n",
            "8   21\n",
            "9   34\n",
            "10   55\n",
            "11   89\n",
            "12   144\n",
            "13   233\n",
            "14   377\n",
            "15   610\n",
            "16   987\n",
            "17   1597\n",
            "18   2584\n",
            "19   4181\n",
            "20   6765\n",
            "21   10946\n",
            "22   17711\n",
            "23   28657\n",
            "24   46368\n",
            "25   75025\n",
            "26   121393\n",
            "27   196418\n",
            "28   317811\n",
            "29   514229\n",
            "30   832040\n",
            "31   1346269\n",
            "32   2178309\n",
            "33   3524578\n",
            "34   5702887\n",
            "35   9227465\n",
            "36   14930352\n",
            "37   24157817\n",
            "38   39088169\n",
            "39   63245986\n",
            "40   102334155\n",
            "41   165580141\n",
            "42   267914296\n",
            "43   433494437\n",
            "44   701408733\n",
            "45   1134903170\n",
            "46   1836311903\n",
            "47   2971215073\n",
            "48   4807526976\n",
            "49   7778742049\n",
            "50   12586269025\n",
            "51   20365011074\n",
            "52   32951280099\n",
            "53   53316291173\n",
            "54   86267571272\n",
            "55   139583862445\n",
            "56   225851433717\n",
            "57   365435296162\n",
            "58   591286729879\n",
            "59   956722026041\n",
            "60   1548008755920\n",
            "61   2504730781961\n",
            "62   4052739537881\n",
            "63   6557470319842\n",
            "64   10610209857723\n",
            "65   17167680177565\n",
            "66   27777890035288\n",
            "67   44945570212853\n",
            "68   72723460248141\n",
            "69   117669030460994\n",
            "70   190392490709135\n",
            "71   308061521170129\n",
            "72   498454011879264\n",
            "73   806515533049393\n",
            "74   1304969544928657\n",
            "75   2111485077978050\n",
            "76   3416454622906707\n",
            "77   5527939700884757\n",
            "78   8944394323791464\n",
            "79   14472334024676221\n",
            "80   23416728348467685\n",
            "81   37889062373143906\n",
            "82   61305790721611591\n",
            "83   99194853094755497\n",
            "84   160500643816367088\n",
            "85   259695496911122585\n",
            "86   420196140727489673\n",
            "87   679891637638612258\n",
            "88   1100087778366101931\n",
            "89   1779979416004714189\n",
            "90   2880067194370816120\n",
            "91   4660046610375530309\n",
            "92   7540113804746346429\n",
            "93   12200160415121876738\n",
            "94   19740274219868223167\n",
            "95   31940434634990099905\n",
            "96   51680708854858323072\n",
            "97   83621143489848422977\n",
            "98   135301852344706746049\n",
            "99   218922995834555169026\n",
            "100   354224848179261915075\n"
          ],
          "name": "stdout"
        }
      ]
    },
    {
      "cell_type": "code",
      "metadata": {
        "id": "mV6QqfK4InXF",
        "colab_type": "code",
        "colab": {}
      },
      "source": [
        "# using the functools library to do the same memoisation in fewer lines"
      ],
      "execution_count": 0,
      "outputs": []
    },
    {
      "cell_type": "code",
      "metadata": {
        "id": "Y9PgeRwfIiU9",
        "colab_type": "code",
        "colab": {}
      },
      "source": [
        "from functools import lru_cache"
      ],
      "execution_count": 0,
      "outputs": []
    },
    {
      "cell_type": "code",
      "metadata": {
        "id": "r8touXRvImuc",
        "colab_type": "code",
        "colab": {}
      },
      "source": [
        "# this allows the original solution to work with memoisation\n",
        "\n",
        "@lru_cache(maxsize=1000)\n",
        "def fibonacci(n):\n",
        "  if n == 1:\n",
        "    return 1\n",
        "  elif n == 2: \n",
        "    return 2\n",
        "  elif n > 2:\n",
        "    return fibonacci(n-1) + fibonacci(n-2)"
      ],
      "execution_count": 0,
      "outputs": []
    },
    {
      "cell_type": "code",
      "metadata": {
        "id": "X90WaJjKIhat",
        "colab_type": "code",
        "colab": {
          "base_uri": "https://localhost:8080/",
          "height": 1000
        },
        "outputId": "17943356-bbc9-4b26-c98f-d6b56c066bb4"
      },
      "source": [
        "for n in range(1, 101):\n",
        "  print(n, \" \", fibonacci(n))"
      ],
      "execution_count": 9,
      "outputs": [
        {
          "output_type": "stream",
          "text": [
            "1   1\n",
            "2   2\n",
            "3   3\n",
            "4   5\n",
            "5   8\n",
            "6   13\n",
            "7   21\n",
            "8   34\n",
            "9   55\n",
            "10   89\n",
            "11   144\n",
            "12   233\n",
            "13   377\n",
            "14   610\n",
            "15   987\n",
            "16   1597\n",
            "17   2584\n",
            "18   4181\n",
            "19   6765\n",
            "20   10946\n",
            "21   17711\n",
            "22   28657\n",
            "23   46368\n",
            "24   75025\n",
            "25   121393\n",
            "26   196418\n",
            "27   317811\n",
            "28   514229\n",
            "29   832040\n",
            "30   1346269\n",
            "31   2178309\n",
            "32   3524578\n",
            "33   5702887\n",
            "34   9227465\n",
            "35   14930352\n",
            "36   24157817\n",
            "37   39088169\n",
            "38   63245986\n",
            "39   102334155\n",
            "40   165580141\n",
            "41   267914296\n",
            "42   433494437\n",
            "43   701408733\n",
            "44   1134903170\n",
            "45   1836311903\n",
            "46   2971215073\n",
            "47   4807526976\n",
            "48   7778742049\n",
            "49   12586269025\n",
            "50   20365011074\n",
            "51   32951280099\n",
            "52   53316291173\n",
            "53   86267571272\n",
            "54   139583862445\n",
            "55   225851433717\n",
            "56   365435296162\n",
            "57   591286729879\n",
            "58   956722026041\n",
            "59   1548008755920\n",
            "60   2504730781961\n",
            "61   4052739537881\n",
            "62   6557470319842\n",
            "63   10610209857723\n",
            "64   17167680177565\n",
            "65   27777890035288\n",
            "66   44945570212853\n",
            "67   72723460248141\n",
            "68   117669030460994\n",
            "69   190392490709135\n",
            "70   308061521170129\n",
            "71   498454011879264\n",
            "72   806515533049393\n",
            "73   1304969544928657\n",
            "74   2111485077978050\n",
            "75   3416454622906707\n",
            "76   5527939700884757\n",
            "77   8944394323791464\n",
            "78   14472334024676221\n",
            "79   23416728348467685\n",
            "80   37889062373143906\n",
            "81   61305790721611591\n",
            "82   99194853094755497\n",
            "83   160500643816367088\n",
            "84   259695496911122585\n",
            "85   420196140727489673\n",
            "86   679891637638612258\n",
            "87   1100087778366101931\n",
            "88   1779979416004714189\n",
            "89   2880067194370816120\n",
            "90   4660046610375530309\n",
            "91   7540113804746346429\n",
            "92   12200160415121876738\n",
            "93   19740274219868223167\n",
            "94   31940434634990099905\n",
            "95   51680708854858323072\n",
            "96   83621143489848422977\n",
            "97   135301852344706746049\n",
            "98   218922995834555169026\n",
            "99   354224848179261915075\n",
            "100   573147844013817084101\n"
          ],
          "name": "stdout"
        }
      ]
    },
    {
      "cell_type": "code",
      "metadata": {
        "id": "mAA15VxMJPNa",
        "colab_type": "code",
        "colab": {}
      },
      "source": [
        "@lru_cache(maxsize=1000)\n",
        "def fibonacci(n):\n",
        "  # NOW add type error handling\n",
        "  if type(n) != int:\n",
        "    raise TypeError(\"n must be a positive int\") # helpful error message\n",
        "  if n < 1:\n",
        "    raise TypeError(\"n must be a positive int\")\n",
        "\n",
        "  if n == 1:\n",
        "    return 1\n",
        "  elif n == 2: \n",
        "    return 2\n",
        "  elif n > 2:\n",
        "    return fibonacci(n-1) + fibonacci(n-2)"
      ],
      "execution_count": 0,
      "outputs": []
    },
    {
      "cell_type": "code",
      "metadata": {
        "id": "m3PWRpdwJtEd",
        "colab_type": "code",
        "colab": {
          "base_uri": "https://localhost:8080/",
          "height": 280
        },
        "outputId": "c08fc947-83f7-41ca-c02c-c0044418d44e"
      },
      "source": [
        "print(fibonacci(-1))"
      ],
      "execution_count": 13,
      "outputs": [
        {
          "output_type": "error",
          "ename": "TypeError",
          "evalue": "ignored",
          "traceback": [
            "\u001b[0;31m---------------------------------------------------------------------------\u001b[0m",
            "\u001b[0;31mTypeError\u001b[0m                                 Traceback (most recent call last)",
            "\u001b[0;32m<ipython-input-13-99885d541aa9>\u001b[0m in \u001b[0;36m<module>\u001b[0;34m()\u001b[0m\n\u001b[0;32m----> 1\u001b[0;31m \u001b[0mprint\u001b[0m\u001b[0;34m(\u001b[0m\u001b[0mfibonacci\u001b[0m\u001b[0;34m(\u001b[0m\u001b[0;34m-\u001b[0m\u001b[0;36m1\u001b[0m\u001b[0;34m)\u001b[0m\u001b[0;34m)\u001b[0m\u001b[0;34m\u001b[0m\u001b[0;34m\u001b[0m\u001b[0m\n\u001b[0m",
            "\u001b[0;32m<ipython-input-12-9f86c92bb79c>\u001b[0m in \u001b[0;36mfibonacci\u001b[0;34m(n)\u001b[0m\n\u001b[1;32m      5\u001b[0m     \u001b[0;32mraise\u001b[0m \u001b[0mTypeError\u001b[0m\u001b[0;34m(\u001b[0m\u001b[0;34m\"n must be a positive int\"\u001b[0m\u001b[0;34m)\u001b[0m\u001b[0;34m\u001b[0m\u001b[0;34m\u001b[0m\u001b[0m\n\u001b[1;32m      6\u001b[0m   \u001b[0;32mif\u001b[0m \u001b[0mn\u001b[0m \u001b[0;34m<\u001b[0m \u001b[0;36m1\u001b[0m\u001b[0;34m:\u001b[0m\u001b[0;34m\u001b[0m\u001b[0;34m\u001b[0m\u001b[0m\n\u001b[0;32m----> 7\u001b[0;31m     \u001b[0;32mraise\u001b[0m \u001b[0mTypeError\u001b[0m\u001b[0;34m(\u001b[0m\u001b[0;34m\"n must be a positive int\"\u001b[0m\u001b[0;34m)\u001b[0m\u001b[0;34m\u001b[0m\u001b[0;34m\u001b[0m\u001b[0m\n\u001b[0m\u001b[1;32m      8\u001b[0m \u001b[0;34m\u001b[0m\u001b[0m\n\u001b[1;32m      9\u001b[0m   \u001b[0;32mif\u001b[0m \u001b[0mn\u001b[0m \u001b[0;34m==\u001b[0m \u001b[0;36m1\u001b[0m\u001b[0;34m:\u001b[0m\u001b[0;34m\u001b[0m\u001b[0;34m\u001b[0m\u001b[0m\n",
            "\u001b[0;31mTypeError\u001b[0m: n must be a positive int"
          ]
        }
      ]
    },
    {
      "cell_type": "code",
      "metadata": {
        "id": "aGDaGNVyJ_Yv",
        "colab_type": "code",
        "colab": {}
      },
      "source": [
        "import matplotlib.pyplot as plt\n",
        "fibonacci_nos = []\n",
        "for n in range(1, 50):\n",
        "  fibonacci_nos.append(fibonacci(n))\n"
      ],
      "execution_count": 0,
      "outputs": []
    },
    {
      "cell_type": "code",
      "metadata": {
        "id": "fmu-y9dhKadn",
        "colab_type": "code",
        "colab": {
          "base_uri": "https://localhost:8080/",
          "height": 293
        },
        "outputId": "2024d16d-c4c1-491e-f4a2-e9f4ad79e4c2"
      },
      "source": [
        "plt.plot(fibonacci_nos)"
      ],
      "execution_count": 22,
      "outputs": [
        {
          "output_type": "execute_result",
          "data": {
            "text/plain": [
              "[<matplotlib.lines.Line2D at 0x7f2b85e57550>]"
            ]
          },
          "metadata": {
            "tags": []
          },
          "execution_count": 22
        },
        {
          "output_type": "display_data",
          "data": {
            "image/png": "[encoded data removed]",
            "text/plain": [
              "<Figure size 432x288 with 1 Axes>"
            ]
          },
          "metadata": {
            "tags": []
          }
        }
      ]
    },
    {
      "cell_type": "code",
      "metadata": {
        "id": "RFZyb48dK6-5",
        "colab_type": "code",
        "colab": {}
      },
      "source": [
        "\n",
        "def fibonacci(n=10):\n",
        "    \"\"\" Generate pairs of fibonacci numbers upto 10 starting with 1,2 ... \"\"\"\n",
        "\n",
        "    a, b = 0,1\n",
        "    for i in range(n):\n",
        "        c = a + b\n",
        "        yield (c,b)\n",
        "        a,b=b,c"
      ],
      "execution_count": 0,
      "outputs": []
    },
    {
      "cell_type": "code",
      "metadata": {
        "id": "Rn33gXvZK72s",
        "colab_type": "code",
        "colab": {}
      },
      "source": [
        "import matplotlib.pyplot as plt\n",
        "from matplotlib.patches import Rectangle\n",
        "from matplotlib.collections import PatchCollection\n",
        "\n",
        "def golden_rectangles(max_n=10):\n",
        "    \"\"\" Generate and plot successive golden rectangles \"\"\"\n",
        "\n",
        "    # List of fibonacci numbers as (fn, fn-1) pair\n",
        "    fibs = list(fibonacci(max_n))\n",
        "    # Reverse as we need to generate rectangles\n",
        "    # from large -> small\n",
        "    fibs.reverse()\n",
        "\n",
        "    # Create a sub-plot\n",
        "    fig, ax = plt.subplots(1)\n",
        "\n",
        "    last_x, last_y = fibs[0]\n",
        "    # Make the plot size large enough to hold\n",
        "    # the largest fibonacci number on both\n",
        "    # x and y-axis.\n",
        "    ax.set_xlim(0, last_x + 10)\n",
        "    ax.set_ylim(0, last_y + 10)\n",
        "    # Turn off the axes\n",
        "    plt.axis('off')\n",
        "\n",
        "    # First rectangle is centered at (0,0)\n",
        "    origin = [0, 0]\n",
        "\n",
        "    # Rectangles\n",
        "    rects = []\n",
        "    \n",
        "    for i,(cur_fn, prev_fn) in enumerate(fibs):\n",
        "        # Plot upto max_n + 1 rectangles\n",
        "        if i > max_n: break\n",
        "\n",
        "        if i in fourth_series(max_n):\n",
        "            # Every 4th rectangle from the 2nd\n",
        "            # rectangle onwards has its origin-x\n",
        "            # point shifted by the fibonacci value\n",
        "            origin[0] = origin[0] + cur_fn\n",
        "\n",
        "        elif i in sixth_series(max_n):\n",
        "            # Every 6th rectangle from the 5th\n",
        "            # rectangle onwards has its origin-y\n",
        "            # point shifted by the fibonacci value\n",
        "            origin[1] = origin[1] + cur_fn\n",
        "            \n",
        "        if i%2 == 1:\n",
        "            # Every 2nd rectangle has its orientation\n",
        "            # switched from lxb to bxl\n",
        "            cur_fn, prev_fn = prev_fn, cur_fn\n",
        "\n",
        "        rectangle = Rectangle(origin, cur_fn, prev_fn, angle=0.0, antialiased=True)\n",
        "        rects.append(rectangle)\n",
        "\n",
        "    # Add the rectangles to the plot - we need transparency\n",
        "    # so that the embedded rectangles all show up   \n",
        "    rect_pcs = PatchCollection(rects, facecolor='g', alpha=0.4,\n",
        "                               edgecolor='black')\n",
        "\n",
        "    ax.add_collection(rect_pcs)\n",
        "    plt.show()"
      ],
      "execution_count": 0,
      "outputs": []
    },
    {
      "cell_type": "code",
      "metadata": {
        "id": "W7OCtmIoLGdt",
        "colab_type": "code",
        "colab": {}
      },
      "source": [
        "def fourth_series(n=10):\n",
        "    \"\"\" Generate 1, 5, 9 ... upto n elements \"\"\"\n",
        "\n",
        "    x = 1\n",
        "    for i in range(n):\n",
        "        yield x\n",
        "        x += 4\n",
        "\n",
        "def sixth_series(n=10):\n",
        "    \"\"\" Generate 4, 10, 16 ... upto n elements \"\"\"\n",
        "\n",
        "    x=4\n",
        "    for i in range(n):\n",
        "        yield x\n",
        "        x += 6"
      ],
      "execution_count": 0,
      "outputs": []
    },
    {
      "cell_type": "code",
      "metadata": {
        "id": "zVoq8nIjLIVF",
        "colab_type": "code",
        "colab": {
          "base_uri": "https://localhost:8080/",
          "height": 248
        },
        "outputId": "146a3029-17f3-4ba7-ca7f-c2a42b449a7f"
      },
      "source": [
        "golden_rectangles(max_n=8)"
      ],
      "execution_count": 31,
      "outputs": [
        {
          "output_type": "display_data",
          "data": {
            "image/png": "[encoded data removed]",
            "text/plain": [
              "<Figure size 432x288 with 1 Axes>"
            ]
          },
          "metadata": {
            "tags": []
          }
        }
      ]
    }
  ]
}