{
  "nbformat": 4,
  "nbformat_minor": 0,
  "metadata": {
    "colab": {
      "name": "s2ds_good_coding_practises.ipynb",
      "provenance": [],
      "collapsed_sections": [],
      "authorship_tag": "ABX9TyMa1sVh3tvg+JfASPm8eloW",
      "include_colab_link": true
    },
    "kernelspec": {
      "name": "python3",
      "display_name": "Python 3"
    }
  },
  "cells": [
    {
      "cell_type": "markdown",
      "metadata": {
        "id": "view-in-github",
        "colab_type": "text"
      },
      "source": [
        "<a href=\"https://colab.research.google.com/github/rjc89/Tutorials/blob/master/s2ds_good_coding_practises.ipynb\" target=\"_parent\"><img src=\"https://colab.research.google.com/assets/colab-badge.svg\" alt=\"Open In Colab\"/></a>"
      ]
    },
    {
      "cell_type": "code",
      "metadata": {
        "id": "sDE7H7IIkbJh",
        "colab_type": "code",
        "colab": {}
      },
      "source": [
        "# History - Charles Babbage and Ada Lovelace\n",
        "# programming language vs machine code\n",
        "# document code so people can understand what you were trying to do\n",
        "# 375K LoC == $1 million worth of technical debt (CAST software quality study)\n",
        "# London ambulance system shambles (1990s)"
      ],
      "execution_count": null,
      "outputs": []
    },
    {
      "cell_type": "markdown",
      "metadata": {
        "id": "GUok3MJhogSH",
        "colab_type": "text"
      },
      "source": [
        "# Simple Rules\n",
        "\n",
        "1. Pick good names\n",
        "\n",
        "2. Comment the right things\n",
        "\n",
        "3. Write small functions\n",
        "\n",
        "4. Think about style and layout"
      ]
    },
    {
      "cell_type": "markdown",
      "metadata": {
        "id": "c0BNEPZwo9y5",
        "colab_type": "text"
      },
      "source": [
        "# Naming\n",
        "\n",
        "- Functions : \n",
        "\n",
        "verbs (doing words ;) )  - avoid generics ('do' be) - be consistent (camel case, _ case) -one word per concept\n",
        "\n",
        "- Variables: \n",
        "\n",
        "use nouns (things)\n",
        "\n",
        "be consitent\n",
        "\n",
        "consider context"
      ]
    },
    {
      "cell_type": "markdown",
      "metadata": {
        "id": "EBHue0hGqOIw",
        "colab_type": "text"
      },
      "source": [
        "# Naming - Examples\n",
        "\n",
        "- Functions \n",
        " \n",
        " getNumberOfPages\n",
        "\n",
        " transfer_cash\n",
        "\n",
        " getTotal\n",
        "\n",
        " Calculate_Total\n",
        "\n",
        "- Variables:\n",
        "\n",
        "numberOfPages\n",
        "\n",
        "CashAmount\n",
        "\n",
        "user_first_name"
      ]
    },
    {
      "cell_type": "code",
      "metadata": {
        "id": "oKp_vIltrGST",
        "colab_type": "code",
        "colab": {
          "base_uri": "https://localhost:8080/",
          "height": 35
        },
        "outputId": "44b09d3c-54a3-4423-e97f-8cbf65e1cbb6"
      },
      "source": [
        "# Improve this\n",
        "def solution(A):\n",
        "  b = 0\n",
        "  for a in A:\n",
        "    b = b + a # adds every item in list A to variable b\n",
        "\n",
        "  m = (len(A)+1)*(len(A)+2)/2 - b # then multiples length of A+1 by length of A+2 / 2 -b\n",
        "  return m\n",
        "\n",
        "A = [1,2,3,4,6,7,8,9]\n",
        "\n",
        "print(solution(A))"
      ],
      "execution_count": 1,
      "outputs": [
        {
          "output_type": "stream",
          "text": [
            "5.0\n"
          ],
          "name": "stdout"
        }
      ]
    },
    {
      "cell_type": "code",
      "metadata": {
        "id": "tH4v9cGBrYL0",
        "colab_type": "code",
        "colab": {
          "base_uri": "https://localhost:8080/",
          "height": 35
        },
        "outputId": "ef7d5a85-1597-4575-8f6a-ffb0e7f4853c"
      },
      "source": [
        "# Improved version\n",
        "def solution(A):  # the array name could be more meaningful (Array)\n",
        "  b = 0  # current value\n",
        "  for a in A:\n",
        "    b = b + a # variable names could be more meaningful\n",
        "\n",
        "  m = (len(A)+1)*(len(A)+2)/2 - b # what is this value m  (missing_value)\n",
        "  return m\n",
        "\n",
        "A = [1,2,3,4,6,7,8,9] \n",
        "\n",
        "print(solution(A))   # FINDS THE MISSING NUMBER!"
      ],
      "execution_count": 2,
      "outputs": [
        {
          "output_type": "stream",
          "text": [
            "5.0\n"
          ],
          "name": "stdout"
        }
      ]
    },
    {
      "cell_type": "code",
      "metadata": {
        "id": "IELvfBjgs_9a",
        "colab_type": "code",
        "colab": {}
      },
      "source": [
        "def find_missing_in_continuous(set_of_naturals):\n",
        "  \"\"\"\n",
        "  Return missing number\n",
        "\n",
        "  This function only works on continuous set of positive \n",
        "  numbers that have a single missing number\n",
        "  \"\"\"\n",
        "\n",
        "  actual_sum = 0\n",
        "  for a in set_of_naturals:\n",
        "    actual_sum = actual_sum + a\n",
        "\n",
        "  l = len(set_of_naturals)\n",
        "  expected_sum = (l+1) * (l+2) /2\n",
        "\n",
        "  return expected_sum - actual_sum"
      ],
      "execution_count": 8,
      "outputs": []
    },
    {
      "cell_type": "code",
      "metadata": {
        "id": "2FUUtzJqtgwN",
        "colab_type": "code",
        "colab": {
          "base_uri": "https://localhost:8080/",
          "height": 35
        },
        "outputId": "0ad1f1f0-7b0a-4cf9-d704-c1e07aa8df5e"
      },
      "source": [
        "print(find_missing_in_continuous([1,2,3,4,6,7,8,9] ))"
      ],
      "execution_count": 9,
      "outputs": [
        {
          "output_type": "stream",
          "text": [
            "5.0\n"
          ],
          "name": "stdout"
        }
      ]
    },
    {
      "cell_type": "markdown",
      "metadata": {
        "id": "nTlj8HR6ty6O",
        "colab_type": "text"
      },
      "source": [
        "# Comments\n",
        "\n",
        "- Comments should explain why not how\n",
        "\n",
        "DO \n",
        "\n",
        "- comment unusual code\n",
        "- docstring for functions and class headers\n",
        "- TODO and FIXME are good\n",
        "- File headers and class headers\n",
        "\n",
        "DO NOT\n",
        "\n",
        "- comment old code\n",
        "- comment out code\n",
        "- comment conditions\n",
        "- repeat code in comments"
      ]
    },
    {
      "cell_type": "code",
      "metadata": {
        "id": "uT_XRWHtu4US",
        "colab_type": "code",
        "colab": {
          "base_uri": "https://localhost:8080/",
          "height": 71
        },
        "outputId": "f402fbb7-d4b6-4d08-f528-07add2434ed8"
      },
      "source": [
        "# improve this\n",
        "import math\n",
        "\n",
        "def solution(N):\n",
        "  maximum = int(math.sqrt(N))\n",
        "  c=0\n",
        "\n",
        "  for a in range(1, maximum+1):\n",
        "    if N % a == 0:\n",
        "      c = c+2\n",
        "  if maximum * maximum == N:\n",
        "    c = c -1\n",
        "\n",
        "  return c\n",
        "\n",
        "print(solution(16))\n",
        "print(solution(17))\n",
        "print(solution(18))"
      ],
      "execution_count": 10,
      "outputs": [
        {
          "output_type": "stream",
          "text": [
            "5\n",
            "2\n",
            "6\n"
          ],
          "name": "stdout"
        }
      ]
    },
    {
      "cell_type": "code",
      "metadata": {
        "id": "1VZ1ZVhTvzw2",
        "colab_type": "code",
        "colab": {}
      },
      "source": [
        "# improve this\n",
        "import math\n",
        "\n",
        "def find_divisors_less_or_equal_to(integer):\n",
        "  '''\n",
        "  This function calculates the number of integers from 1..N that divide the integer input N\n",
        "  '''\n",
        "  maximum = int(math.sqrt(N))\n",
        "  c=0\n",
        "\n",
        "  for a in range(1, maximum+1):\n",
        "    if N % a == 0:\n",
        "      # add 2 as if a divides N -> N/a also divides N\n",
        "      c = c+2\n",
        "\n",
        "  # do not double count last one if sqrt(N) is whole number\n",
        "  if maximum * maximum == N:\n",
        "    c = c -1\n",
        "\n",
        "  return c\n",
        "\n",
        "print(solution(16))\n",
        "print(solution(17))\n",
        "print(solution(18))"
      ],
      "execution_count": null,
      "outputs": []
    },
    {
      "cell_type": "markdown",
      "metadata": {
        "id": "fCJzlVLVxh4q",
        "colab_type": "text"
      },
      "source": [
        "# Functions\n",
        "\n",
        "Functions should be:\n",
        "- small\n",
        "- do one thing\n",
        "- have no side effects\n",
        "- have a small set of parameters\n",
        "- have an even smaller set of positional parameters\n",
        "- be named well\n",
        "- be commented well"
      ]
    },
    {
      "cell_type": "markdown",
      "metadata": {
        "id": "ZhrROUWyyBUL",
        "colab_type": "text"
      },
      "source": [
        "# Testing\n",
        "TEST:\n",
        "- early\n",
        "- often\n",
        "- everywhere\n",
        "- automate testing\n",
        "\n",
        "types of testing:\n",
        "- unit tests\n",
        "- acceptance tests\n",
        "- integration tests (testing with different components from other parts of a larger system)\n",
        "- regression tests\n",
        "- user tests"
      ]
    },
    {
      "cell_type": "markdown",
      "metadata": {
        "id": "G_1bDC1ry-i-",
        "colab_type": "text"
      },
      "source": [
        "# Debugging \n",
        "Work Systematically:\n",
        "1. Add a new test which demonstrates the failure\n",
        "\n",
        "2. Find the bug\n",
        "\n",
        "a) print statements\n",
        "\n",
        "b) Learn to use your languages debugger\n",
        "\n",
        "c) Learn to use memory checking tools (C++, when is memory being rewritten etc) \n",
        "\n",
        "3. Fix\n",
        "\n",
        "4. Verify the test now passes"
      ]
    },
    {
      "cell_type": "markdown",
      "metadata": {
        "id": "XfZ-KBbR0o4D",
        "colab_type": "text"
      },
      "source": [
        "# Other considerations\n",
        "\n",
        "- Refactoring (re-write better)\n",
        "\n",
        "- code review (someone reviews all code before commits)\n",
        "\n",
        "- pair programming (\n",
        "\n",
        "- legacy code techniques (\n",
        "\n",
        "- Architecture and code design"
      ]
    },
    {
      "cell_type": "markdown",
      "metadata": {
        "id": "TXMcegV81aQG",
        "colab_type": "text"
      },
      "source": [
        "# Agile development\n",
        "\n",
        "- Manager level framework for the development process, meant to accelerate software development"
      ]
    },
    {
      "cell_type": "markdown",
      "metadata": {
        "id": "8csyfzgm4Vay",
        "colab_type": "text"
      },
      "source": [
        "# The Human Factor\n",
        ">> team effort <<"
      ]
    },
    {
      "cell_type": "code",
      "metadata": {
        "id": "Ua3cmn6l6RE4",
        "colab_type": "code",
        "colab": {}
      },
      "source": [
        "# trello , online blackboard\n",
        "\n",
        "# zoom call for screen sharing"
      ],
      "execution_count": null,
      "outputs": []
    }
  ]
}