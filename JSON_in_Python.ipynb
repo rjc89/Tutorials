{
  "nbformat": 4,
  "nbformat_minor": 0,
  "metadata": {
    "colab": {
      "name": "JSON_in_Python.ipynb",
      "provenance": [],
      "collapsed_sections": [],
      "authorship_tag": "ABX9TyMKZQfTuy4X+V/KVF2sOx5n",
      "include_colab_link": true
    },
    "kernelspec": {
      "name": "python3",
      "display_name": "Python 3"
    }
  },
  "cells": [
    {
      "cell_type": "markdown",
      "metadata": {
        "id": "view-in-github",
        "colab_type": "text"
      },
      "source": [
        "<a href=\"https://colab.research.google.com/github/rjc89/Tutorials/blob/master/JSON_in_Python.ipynb\" target=\"_parent\"><img src=\"https://colab.research.google.com/assets/colab-badge.svg\" alt=\"Open In Colab\"/></a>"
      ]
    },
    {
      "cell_type": "code",
      "metadata": {
        "id": "-8t5_BfY2-re",
        "colab_type": "code",
        "colab": {}
      },
      "source": [
        "# JavaScript Object Notation. A JSON data packet is similar to a Python dictionary. shorter than XML, quickly parsd by browsers\n",
        "\n",
        "# Ideal format for moving data from CLIENT to SERVER, compatible with OSX/Android"
      ],
      "execution_count": 0,
      "outputs": []
    },
    {
      "cell_type": "code",
      "metadata": {
        "id": "7ZxfcTbr396B",
        "colab_type": "code",
        "colab": {}
      },
      "source": [
        "import json"
      ],
      "execution_count": 0,
      "outputs": []
    },
    {
      "cell_type": "code",
      "metadata": {
        "id": "QpVkThaG3_jg",
        "colab_type": "code",
        "colab": {
          "base_uri": "https://localhost:8080/",
          "height": 454
        },
        "outputId": "0d3ce9f5-3e86-42e8-f13c-032294233465"
      },
      "source": [
        "dir(json)"
      ],
      "execution_count": 2,
      "outputs": [
        {
          "output_type": "execute_result",
          "data": {
            "text/plain": [
              "['JSONDecodeError',\n",
              " 'JSONDecoder',\n",
              " 'JSONEncoder',\n",
              " '__all__',\n",
              " '__author__',\n",
              " '__builtins__',\n",
              " '__cached__',\n",
              " '__doc__',\n",
              " '__file__',\n",
              " '__loader__',\n",
              " '__name__',\n",
              " '__package__',\n",
              " '__path__',\n",
              " '__spec__',\n",
              " '__version__',\n",
              " '_default_decoder',\n",
              " '_default_encoder',\n",
              " 'codecs',\n",
              " 'decoder',\n",
              " 'detect_encoding',\n",
              " 'dump',\n",
              " 'dumps',\n",
              " 'encoder',\n",
              " 'load',\n",
              " 'loads',\n",
              " 'scanner']"
            ]
          },
          "metadata": {
            "tags": []
          },
          "execution_count": 2
        }
      ]
    },
    {
      "cell_type": "markdown",
      "metadata": {
        "id": "pHDJCBkc5pS-",
        "colab_type": "text"
      },
      "source": [
        " 'dump',  dump to json\n",
        " 'dumps', dump to string in json format\n",
        " 'encoder',\n",
        " 'load',   load from json file\n",
        " 'loads',   load from string in json format"
      ]
    },
    {
      "cell_type": "code",
      "metadata": {
        "id": "1oxCx81k4DGY",
        "colab_type": "code",
        "colab": {
          "base_uri": "https://localhost:8080/",
          "height": 121
        },
        "outputId": "fb355725-1e23-41d8-9cd9-0bee20b7cd57"
      },
      "source": [
        "from google.colab import drive\n",
        "drive.mount('/content/drive')"
      ],
      "execution_count": 4,
      "outputs": [
        {
          "output_type": "stream",
          "text": [
            "Go to this URL in a browser: https://accounts.google.com/o/oauth2/auth?client_id=947318989803-6bn6qk8qdgf4n4g3pfee6491hc0brc4i.apps.googleusercontent.com&redirect_uri=urn%3aietf%3awg%3aoauth%3a2.0%3aoob&response_type=code&scope=email%20https%3a%2f%2fwww.googleapis.com%2fauth%2fdocs.test%20https%3a%2f%2fwww.googleapis.com%2fauth%2fdrive%20https%3a%2f%2fwww.googleapis.com%2fauth%2fdrive.photos.readonly%20https%3a%2f%2fwww.googleapis.com%2fauth%2fpeopleapi.readonly\n",
            "\n",
            "Enter your authorization code:\n",
            "··········\n",
            "Mounted at /content/drive\n"
          ],
          "name": "stdout"
        }
      ]
    },
    {
      "cell_type": "code",
      "metadata": {
        "id": "QKdp944R5ZMf",
        "colab_type": "code",
        "colab": {}
      },
      "source": [
        "json_file = open(\"/content/drive/My Drive/Colab Notebooks/movie_1.txt\", \"r\", encoding=\"utf-8\")"
      ],
      "execution_count": 0,
      "outputs": []
    },
    {
      "cell_type": "code",
      "metadata": {
        "id": "8u5kJRKR6E5V",
        "colab_type": "code",
        "colab": {}
      },
      "source": [
        "movie = json.load(json_file)"
      ],
      "execution_count": 0,
      "outputs": []
    },
    {
      "cell_type": "code",
      "metadata": {
        "id": "NFZ5JTzq6OCD",
        "colab_type": "code",
        "colab": {
          "base_uri": "https://localhost:8080/",
          "height": 272
        },
        "outputId": "93b1eb05-afd1-4713-9c27-4a300e5eb39d"
      },
      "source": [
        "movie"
      ],
      "execution_count": 9,
      "outputs": [
        {
          "output_type": "execute_result",
          "data": {
            "text/plain": [
              "{'actors': ['Daniel Kaluuya', 'Allison Williams', 'Bradley Whitford'],\n",
              " 'averageRating': 0,\n",
              " 'contentRating': 'R',\n",
              " 'duration': 'PT103M',\n",
              " 'genres': ['Horror', 'Mystery'],\n",
              " 'imdbRating': 8.0,\n",
              " 'originalTitle': '',\n",
              " 'poster': 'MV5BNTE2Nzg1NjkzNV5BMl5BanBnXkFtZTgwOTgyODMyMTI@._V1_SY500_CR0,0,315,500_AL_.jpg',\n",
              " 'posterurl': 'https://images-na.ssl-images-amazon.com/images/M/MV5BNTE2Nzg1NjkzNV5BMl5BanBnXkFtZTgwOTgyODMyMTI@._V1_SY500_CR0,0,315,500_AL_.jpg',\n",
              " 'ratings': [6, 6, 7, 6, 7, 9],\n",
              " 'releaseDate': '2017-02-24',\n",
              " 'storyline': 'A young African American man visits his European American girlfriend\\'s family estate where he learns that many of its residents, who are black, have gone missing, and he soon learns the horrible truth when another frantic African-American warns him to \"get out\". He soon learns this is easier said than done.',\n",
              " 'title': 'Get Out',\n",
              " 'year': '2017'}"
            ]
          },
          "metadata": {
            "tags": []
          },
          "execution_count": 9
        }
      ]
    },
    {
      "cell_type": "code",
      "metadata": {
        "id": "oQ67fgGk6Sp8",
        "colab_type": "code",
        "colab": {}
      },
      "source": [
        "json_file.close()"
      ],
      "execution_count": 0,
      "outputs": []
    },
    {
      "cell_type": "code",
      "metadata": {
        "id": "uewF86en6V-C",
        "colab_type": "code",
        "colab": {
          "base_uri": "https://localhost:8080/",
          "height": 34
        },
        "outputId": "2d7a773e-4186-4b18-d063-f9253d010f4c"
      },
      "source": [
        "movie['actors']"
      ],
      "execution_count": 11,
      "outputs": [
        {
          "output_type": "execute_result",
          "data": {
            "text/plain": [
              "['Daniel Kaluuya', 'Allison Williams', 'Bradley Whitford']"
            ]
          },
          "metadata": {
            "tags": []
          },
          "execution_count": 11
        }
      ]
    },
    {
      "cell_type": "code",
      "metadata": {
        "id": "sbBBH-mw6t5Q",
        "colab_type": "code",
        "colab": {
          "base_uri": "https://localhost:8080/",
          "height": 34
        },
        "outputId": "f0b802bb-9329-40ae-80d6-ba4d105e7531"
      },
      "source": [
        "movie['title']"
      ],
      "execution_count": 12,
      "outputs": [
        {
          "output_type": "execute_result",
          "data": {
            "text/plain": [
              "'Get Out'"
            ]
          },
          "metadata": {
            "tags": []
          },
          "execution_count": 12
        }
      ]
    },
    {
      "cell_type": "code",
      "metadata": {
        "id": "fLY338XP6w-v",
        "colab_type": "code",
        "colab": {}
      },
      "source": [
        "value = \"\"\"{\n",
        "  \"title\" : \"Scarface\",\n",
        "  \"director\" : \"martin scorcesse\",\n",
        "  \"release_year\" : \"1982\",\n",
        "  \"actors\" : \"null\",\n",
        "  \"won_oscar\" : \"false\"\n",
        "}\"\"\""
      ],
      "execution_count": 0,
      "outputs": []
    },
    {
      "cell_type": "code",
      "metadata": {
        "id": "c_NCdr_068S_",
        "colab_type": "code",
        "colab": {}
      },
      "source": [
        "movie_s = json.loads(value)"
      ],
      "execution_count": 0,
      "outputs": []
    },
    {
      "cell_type": "code",
      "metadata": {
        "id": "-1Plx0NJ7F-N",
        "colab_type": "code",
        "colab": {
          "base_uri": "https://localhost:8080/",
          "height": 672
        },
        "outputId": "915c2f13-a673-4945-94e6-b2fc8dbae287"
      },
      "source": [
        "help(json.loads)"
      ],
      "execution_count": 15,
      "outputs": [
        {
          "output_type": "stream",
          "text": [
            "Help on function loads in module json:\n",
            "\n",
            "loads(s, *, encoding=None, cls=None, object_hook=None, parse_float=None, parse_int=None, parse_constant=None, object_pairs_hook=None, **kw)\n",
            "    Deserialize ``s`` (a ``str``, ``bytes`` or ``bytearray`` instance\n",
            "    containing a JSON document) to a Python object.\n",
            "    \n",
            "    ``object_hook`` is an optional function that will be called with the\n",
            "    result of any object literal decode (a ``dict``). The return value of\n",
            "    ``object_hook`` will be used instead of the ``dict``. This feature\n",
            "    can be used to implement custom decoders (e.g. JSON-RPC class hinting).\n",
            "    \n",
            "    ``object_pairs_hook`` is an optional function that will be called with the\n",
            "    result of any object literal decoded with an ordered list of pairs.  The\n",
            "    return value of ``object_pairs_hook`` will be used instead of the ``dict``.\n",
            "    This feature can be used to implement custom decoders that rely on the\n",
            "    order that the key and value pairs are decoded (for example,\n",
            "    collections.OrderedDict will remember the order of insertion). If\n",
            "    ``object_hook`` is also defined, the ``object_pairs_hook`` takes priority.\n",
            "    \n",
            "    ``parse_float``, if specified, will be called with the string\n",
            "    of every JSON float to be decoded. By default this is equivalent to\n",
            "    float(num_str). This can be used to use another datatype or parser\n",
            "    for JSON floats (e.g. decimal.Decimal).\n",
            "    \n",
            "    ``parse_int``, if specified, will be called with the string\n",
            "    of every JSON int to be decoded. By default this is equivalent to\n",
            "    int(num_str). This can be used to use another datatype or parser\n",
            "    for JSON integers (e.g. float).\n",
            "    \n",
            "    ``parse_constant``, if specified, will be called with one of the\n",
            "    following strings: -Infinity, Infinity, NaN.\n",
            "    This can be used to raise an exception if invalid JSON numbers\n",
            "    are encountered.\n",
            "    \n",
            "    To use a custom ``JSONDecoder`` subclass, specify it with the ``cls``\n",
            "    kwarg; otherwise ``JSONDecoder`` is used.\n",
            "    \n",
            "    The ``encoding`` argument is ignored and deprecated.\n",
            "\n"
          ],
          "name": "stdout"
        }
      ]
    },
    {
      "cell_type": "code",
      "metadata": {
        "id": "E6b_CHEw9Hxf",
        "colab_type": "code",
        "colab": {
          "base_uri": "https://localhost:8080/",
          "height": 101
        },
        "outputId": "39877dd6-0dfa-4f1d-e598-7c4f6a13ea84"
      },
      "source": [
        "movie_s"
      ],
      "execution_count": 26,
      "outputs": [
        {
          "output_type": "execute_result",
          "data": {
            "text/plain": [
              "{'actors': 'null',\n",
              " 'director': 'martin scorcesse',\n",
              " 'release_year': '1982',\n",
              " 'title': 'Scarface',\n",
              " 'won_oscar': 'false'}"
            ]
          },
          "metadata": {
            "tags": []
          },
          "execution_count": 26
        }
      ]
    },
    {
      "cell_type": "code",
      "metadata": {
        "id": "YfM-Eyey9sk9",
        "colab_type": "code",
        "colab": {
          "base_uri": "https://localhost:8080/",
          "height": 34
        },
        "outputId": "a0f13785-e3f9-4553-9206-51f17c30f3d9"
      },
      "source": [
        "json.dumps(movie_s)"
      ],
      "execution_count": 27,
      "outputs": [
        {
          "output_type": "execute_result",
          "data": {
            "text/plain": [
              "'{\"title\": \"Scarface\", \"director\": \"martin scorcesse\", \"release_year\": \"1982\", \"actors\": \"null\", \"won_oscar\": \"false\"}'"
            ]
          },
          "metadata": {
            "tags": []
          },
          "execution_count": 27
        }
      ]
    },
    {
      "cell_type": "code",
      "metadata": {
        "id": "X_xl1D7290y4",
        "colab_type": "code",
        "colab": {}
      },
      "source": [
        "# False is false in JavaScript and None is null in JavaScript"
      ],
      "execution_count": 0,
      "outputs": []
    },
    {
      "cell_type": "code",
      "metadata": {
        "id": "J5o0ROuH-HV3",
        "colab_type": "code",
        "colab": {}
      },
      "source": [
        "movie2 = {}\n",
        "movie2[\"director\"] = \"Steven Spielberg\"\n",
        "movie2[\"cinematographer\"] = \"Janusz Kami\\u0144ski\" # unicode character for an accented n \\u0144\n",
        "movie2[\"year\"] = \"2002\""
      ],
      "execution_count": 0,
      "outputs": []
    },
    {
      "cell_type": "code",
      "metadata": {
        "id": "WqInj7QE-cgj",
        "colab_type": "code",
        "colab": {}
      },
      "source": [
        "file2 = open(\"/content/drive/My Drive/Colab Notebooks/movie2.txt\", \"w\", encoding=\"utf-8\")\n",
        "json.dump(movie2, file2, ensure_ascii=False)   # ensure_ascii = False ensure the utf-8/unicode character is rendered\n",
        "file2.close()"
      ],
      "execution_count": 0,
      "outputs": []
    },
    {
      "cell_type": "code",
      "metadata": {
        "id": "3cNJsxKb-9j3",
        "colab_type": "code",
        "colab": {}
      },
      "source": [
        ""
      ],
      "execution_count": 0,
      "outputs": []
    }
  ]
}