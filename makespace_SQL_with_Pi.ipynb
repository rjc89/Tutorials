{
  "nbformat": 4,
  "nbformat_minor": 0,
  "metadata": {
    "kernelspec": {
      "display_name": "Python 3",
      "language": "python",
      "name": "python3"
    },
    "language_info": {
      "codemirror_mode": {
        "name": "ipython",
        "version": 3
      },
      "file_extension": ".py",
      "mimetype": "text/x-python",
      "name": "python",
      "nbconvert_exporter": "python",
      "pygments_lexer": "ipython3",
      "version": "3.7.3"
    },
    "colab": {
      "name": "makespace_SQL_with_Pi.ipynb",
      "provenance": [],
      "include_colab_link": true
    }
  },
  "cells": [
    {
      "cell_type": "markdown",
      "metadata": {
        "id": "view-in-github",
        "colab_type": "text"
      },
      "source": [
        "<a href=\"https://colab.research.google.com/github/rjc89/Tutorials/blob/master/makespace_SQL_with_Pi.ipynb\" target=\"_parent\"><img src=\"https://colab.research.google.com/assets/colab-badge.svg\" alt=\"Open In Colab\"/></a>"
      ]
    },
    {
      "cell_type": "markdown",
      "metadata": {
        "id": "D_Eiha8Cb7IQ",
        "colab_type": "text"
      },
      "source": [
        "## SQL relation database model:\n",
        "\n",
        "RDBMS Relational Database Management Systems:\n",
        "\n",
        "MySQL, Postgresql (), ORACLE, SQLite (lightweight, Python built in), SQL Alchemy\n",
        "\n",
        "\n",
        "SQL is declarative\n",
        "\n"
      ]
    },
    {
      "cell_type": "markdown",
      "metadata": {
        "id": "HSVXRPTjb7IU",
        "colab_type": "text"
      },
      "source": [
        "## Never put live code into an SQL db\n",
        "\n",
        "also security risk if users are able to inject code into it \n",
        "\n",
        "SQL injection vulnerabilities"
      ]
    },
    {
      "cell_type": "markdown",
      "metadata": {
        "id": "uC9oMgwVb7IW",
        "colab_type": "text"
      },
      "source": [
        "utf8mb4_general_ci \n",
        "\n",
        "utf 8\n",
        "\n",
        "maximum bytes 4\n",
        "\n",
        "general ? \n",
        "\n",
        "case insensitive\n",
        "\n",
        "\n",
        "utf8mb4_general_ci is a simplified set of sorting rules which aims to do as well as it can while taking many short-cuts designed to improve speed. It does not follow the Unicode rules and will result in undesirable sorting or comparison in some situations, such as when using particular languages or characters."
      ]
    },
    {
      "cell_type": "markdown",
      "metadata": {
        "id": "yTMW6yfPb7IX",
        "colab_type": "text"
      },
      "source": [
        "## Unique keys not just integers\n",
        "\n",
        "Sharding using uuid - a randomly generated string of letters and numbers\n",
        "\n",
        "national insurance no\n",
        "\n",
        "name surname place of birth and some random nos is also unique\n",
        "\n",
        "\n",
        "• you can have a surrogate key but the uuid would be the natural key. Surrogate key mandatory in SQL alchemy\n"
      ]
    },
    {
      "cell_type": "code",
      "metadata": {
        "id": "H3O2b4l2b7IY",
        "colab_type": "code",
        "colab": {}
      },
      "source": [
        "ssh u5@10.0.0.246\n",
        "\n",
        "password: u5\n",
        "    \n",
        "u5@mr-pi:~ $ mysql -w u5 -p\n",
        "Enter password: \n",
        "    \n",
        "    \n",
        "    "
      ],
      "execution_count": 0,
      "outputs": []
    },
    {
      "cell_type": "code",
      "metadata": {
        "id": "92vIdElpb7Ie",
        "colab_type": "code",
        "colab": {}
      },
      "source": [
        "# Create tables in MySQL\n",
        "\n",
        "NAME SURNAME TEL No. AGE\n",
        "\n",
        "STEVE BURKE  77777 .  77"
      ],
      "execution_count": 0,
      "outputs": []
    },
    {
      "cell_type": "code",
      "metadata": {
        "id": "Cv6sSdbJb7Ij",
        "colab_type": "code",
        "colab": {}
      },
      "source": [
        "Copyright (c) 2000, 2018, Oracle, MariaDB Corporation Ab and others.\n",
        "\n",
        "Type 'help;' or '\\h' for help. Type '\\c' to clear the current input statement.\n",
        "\n",
        "MariaDB [u5]> use sbo\n",
        "ERROR 1044 (42000): Access denied for user 'u5'@'%' to database 'sbo'\n",
        "MariaDB [u5]> use test\n",
        "ERROR 1044 (42000): Access denied for user 'u5'@'%' to database 'test'\n",
        "MariaDB [u5]> u5 test\n",
        "    -> create database u5\n",
        "    -> use u5\n",
        "    -> \n",
        "    -> \n",
        "    -> ;\n",
        "ERROR 1064 (42000): You have an error in your SQL syntax; check the manual that corresponds to your MariaDB server version for the right syntax to use near 'u5 test\n",
        "create database u5\n",
        "use u5' at line 1\n",
        "MariaDB [u5]> show tables;\n",
        "Empty set (0.00 sec)b"
      ],
      "execution_count": 0,
      "outputs": []
    },
    {
      "cell_type": "markdown",
      "metadata": {
        "id": "1oPg8yRgb7In",
        "colab_type": "text"
      },
      "source": [
        "#b\n",
        "\n",
        "CREATE   --> INSERT\n",
        "\n",
        "RETRIEVE --> SELECT\n",
        "\n",
        "UPDATE   -->\n",
        "\n",
        "DELETE   --> Delete or TRUNCATE (nuclear option)\n",
        "\n",
        "** Adding columns may be a problem with some SQL implementations"
      ]
    },
    {
      "cell_type": "code",
      "metadata": {
        "id": "Gy6gr0XSb7Ip",
        "colab_type": "code",
        "colab": {}
      },
      "source": [
        "u5@mr-pi:~ $ mysql -w u5 -p\n",
        "Enter password: \n",
        "Welcome to the MariaDB monitor.  Commands end with ; or \\g.\n",
        "Your MariaDB connection id is 37\n",
        "Server version: 10.1.38-MariaDB-0+deb9u1 Raspbian 9.0\n",
        "\n",
        "Copyright (c) 2000, 2018, Oracle, MariaDB Corporation Ab and others.\n",
        "\n",
        "Type 'help;' or '\\h' for help. Type '\\c' to clear the current input statement.\n",
        "\n",
        "MariaDB [u5]> use sbo\n",
        "ERROR 1044 (42000): Access denied for user 'u5'@'%' to database 'sbo'\n",
        "MariaDB [u5]> use test\n",
        "ERROR 1044 (42000): Access denied for user 'u5'@'%' to database 'test'\n",
        "MariaDB [u5]> u5 test\n",
        "    -> create database u5\n",
        "    -> use u5\n",
        "    -> \n",
        "    -> \n",
        "    -> ;\n",
        "ERROR 1064 (42000): You have an error in your SQL syntax; check the manual that corresponds to your MariaDB server version for the right syntax to use near 'u5 test\n",
        "create database u5\n",
        "use u5' at line 1\n",
        "MariaDB [u5]> show tables;\n",
        "Empty set (0.00 sec)\n",
        "\n",
        "MariaDB [u5]> create table addressbook ()\n",
        "    -> create table addressbook (name varchar(128), surname varchar(128), tel_no varchar(24), age integer);\n",
        "ERROR 1064 (42000): You have an error in your SQL syntax; check the manual that corresponds to your MariaDB server version for the right syntax to use near ')\n",
        "create table addressbook (name varchar(128), surname varchar(128), tel_no varc' at line 1\n",
        "MariaDB [u5]> create table addressbook () create table addressbook (name varchar(128), surname varchar(128), tel_no varchar(24), age integer);\n",
        "ERROR 1064 (42000): You have an error in your SQL syntax; check the manual that corresponds to your MariaDB server version for the right syntax to use near ') create table addressbook (name varchar(128), surname varchar(128), tel_no varc' at line 1\n",
        "MariaDB [u5]> create table addressbook (name varchar(128), surname varchar(128), tel_no varchar(24), age integer);\n",
        "Query OK, 0 rows affected (0.05 sec)\n",
        "\n",
        "MariaDB [u5]> show tables;\n",
        "+--------------+\n",
        "| Tables_in_u5 |\n",
        "+--------------+\n",
        "| addressbook  |\n",
        "+--------------+\n",
        "1 row in set (0.00 sec)\n",
        "\n",
        "MariaDB [u5]> describe addressbook\n",
        "    -> \n",
        "    -> \n",
        "    -> ;\n",
        "+---------+--------------+------+-----+---------+-------+\n",
        "| Field   | Type         | Null | Key | Default | Extra |\n",
        "+---------+--------------+------+-----+---------+-------+\n",
        "| name    | varchar(128) | YES  |     | NULL    |       |\n",
        "| surname | varchar(128) | YES  |     | NULL    |       |\n",
        "| tel_no  | varchar(24)  | YES  |     | NULL    |       |\n",
        "| age     | int(11)      | YES  |     | NULL    |       |\n",
        "+---------+--------------+------+-----+---------+-------+\n",
        "4 rows in set (0.01 sec)\n",
        "\n",
        "MariaDB [u5]> insert into addressbook values ('Mark', 'Foo' '0122334', 23);\n",
        "ERROR 1136 (21S01): Column count doesn't match value count at row 1\n",
        "MariaDB [u5]> insert into addressbook values ('Mark', 'Foo' '0122334', 23);\n",
        "ERROR 1136 (21S01): Column count doesn't match value count at row 1\n",
        "MariaDB [u5]> insert into addressbook values ('Mark', 'Foo' '0122334', 23);\n",
        "ERROR 1136 (21S01): Column count doesn't match value count at row 1\n",
        "MariaDB [u5]> insert into addressbook values ('Mark', 'Foo' '0122334', 23);\n",
        "ERROR 1136 (21S01): Column count doesn't match value count at row 1\n",
        "MariaDB [u5]> insert into addressbook values ('Mark', 'Foo' '01223342', 23);\n",
        "ERROR 1136 (21S01): Column count doesn't match value count at row 1\n",
        "MariaDB [u5]> select * from addressbook;\n",
        "Empty set (0.00 sec)\n",
        "\n",
        "MariaDB [u5]> insert into addressbook values ('Mark', 'Foo' '01223342', 23);\n",
        "ERROR 1136 (21S01): Column count doesn't match value count at row 1\n",
        "MariaDB [u5]> insert into addressbook values ('Mark', 'Foo' ,'01223342', 23);\n",
        "Query OK, 1 row affected (0.01 sec)\n",
        "\n",
        "MariaDB [u5]> select * from addressbook;\n",
        "+------+---------+----------+------+\n",
        "| name | surname | tel_no   | age  |\n",
        "+------+---------+----------+------+\n",
        "| Mark | Foo     | 01223342 |   23 |\n",
        "+------+---------+----------+------+\n",
        "1 row in set (0.00 sec)\n",
        "\n",
        "MariaDB [u5]> insert into addressbook values ('Mark', 'Foo' ,'01223342', 23);\n",
        "Query OK, 1 row affected (0.02 sec)\n",
        "\n",
        "MariaDB [u5]> select * from addressbook;\n",
        "+------+---------+----------+------+\n",
        "| name | surname | tel_no   | age  |\n",
        "+------+---------+----------+------+\n",
        "| Mark | Foo     | 01223342 |   23 |\n",
        "| Mark | Foo     | 01223342 |   23 |\n",
        "+------+---------+----------+------+\n",
        "2 rows in set (0.00 sec)\n",
        "\n",
        "MariaDB [u5]> insert into addressbook values ('Mark', 'Foo' ,'01223342', 23);\n",
        "Query OK, 1 row affected (0.01 sec)\n",
        "\n",
        "MariaDB [u5]> insert into addressbook values ('Mark', 'Foo' ,'01223342', 23);\n",
        "Query OK, 1 row affected (0.01 sec)\n",
        "\n",
        "MariaDB [u5]> select * from addressbook;\n",
        "+------+---------+----------+------+\n",
        "| name | surname | tel_no   | age  |\n",
        "+------+---------+----------+------+\n",
        "| Mark | Foo     | 01223342 |   23 |\n",
        "| Mark | Foo     | 01223342 |   23 |\n",
        "| Mark | Foo     | 01223342 |   23 |\n",
        "| Mark | Foo     | 01223342 |   23 |\n",
        "+------+---------+----------+------+\n",
        "4 rows in set (0.00 sec)\n",
        "\n",
        "MariaDB [u5]> select name, surname from addressbook;\n",
        "+------+---------+\n",
        "| name | surname |\n",
        "+------+---------+\n",
        "| Mark | Foo     |\n",
        "| Mark | Foo     |\n",
        "| Mark | Foo     |\n",
        "| Mark | Foo     |\n",
        "+------+---------+\n",
        "4 rows in set (0.00 sec)\n",
        "\n",
        "MariaDB [u5]> select * from addressbook where age > 20;\n",
        "+------+---------+----------+------+\n",
        "| name | surname | tel_no   | age  |\n",
        "+------+---------+----------+------+\n",
        "| Mark | Foo     | 01223342 |   23 |\n",
        "| Mark | Foo     | 01223342 |   23 |\n",
        "| Mark | Foo     | 01223342 |   23 |\n",
        "| Mark | Foo     | 01223342 |   23 |\n",
        "+------+---------+----------+------+\n",
        "4 rows in set (0.00 sec)\n",
        "\n",
        "MariaDB [u5]> select * from addressbook where age > 20 and name = \"Mark\";\n",
        "+------+---------+----------+------+\n",
        "| name | surname | tel_no   | age  |\n",
        "+------+---------+----------+------+\n",
        "| Mark | Foo     | 01223342 |   23 |\n",
        "| Mark | Foo     | 01223342 |   23 |\n",
        "| Mark | Foo     | 01223342 |   23 |\n",
        "| Mark | Foo     | 01223342 |   23 |\n",
        "+------+---------+----------+------+\n",
        "4 rows in set (0.00 sec)\n",
        "\n",
        "MariaDB [u5]> insert into addressbook values ('kevin', 'smith' ,'01243342', 35);\n",
        "Query OK, 1 row affected (0.01 sec)\n",
        "\n",
        "MariaDB [u5]> select * from addressbook where age > 20 and name = \"Mark\";\n",
        "+------+---------+----------+------+\n",
        "| name | surname | tel_no   | age  |\n",
        "+------+---------+----------+------+\n",
        "| Mark | Foo     | 01223342 |   23 |\n",
        "| Mark | Foo     | 01223342 |   23 |\n",
        "| Mark | Foo     | 01223342 |   23 |\n",
        "| Mark | Foo     | 01223342 |   23 |\n",
        "+------+---------+----------+------+\n",
        "4 rows in set (0.00 sec)\n",
        "\n",
        "MariaDB [u5]> select * from addressbook where age > 20 and name = \"kevin\";\n",
        "+-------+---------+----------+------+\n",
        "| name  | surname | tel_no   | age  |\n",
        "+-------+---------+----------+------+\n",
        "| kevin | smith   | 01243342 |   35 |\n",
        "+-------+---------+----------+------+\n",
        "1 row in set (0.00 sec)\n",
        "\n",
        "MariaDB [u5]> select * from addressbook where age > 20 and name = \"kevin\";"
      ],
      "execution_count": 0,
      "outputs": []
    },
    {
      "cell_type": "code",
      "metadata": {
        "id": "0VOuuF7Eb7Iu",
        "colab_type": "code",
        "colab": {}
      },
      "source": [
        ""
      ],
      "execution_count": 0,
      "outputs": []
    }
  ]
}